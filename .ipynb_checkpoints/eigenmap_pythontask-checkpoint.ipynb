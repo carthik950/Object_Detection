{
 "cells": [
  {
   "cell_type": "raw",
   "id": "9e0dad44-6b71-44bf-aaab-e2bb9a1efec6",
   "metadata": {},
   "source": [
    "#1) Roman numerals are represented by seven different symbols: I, V, X, L, C, D and M.\n",
    "Symbol Value\n",
    "I 1\n",
    "V 5\n",
    "X 10\n",
    "L 50\n",
    "C 100\n",
    "D 500\n",
    "M 1000\n",
    "For example, 2 is written as II in Roman numerals, just two ones added together. 12 is written as XII,\n",
    "which is simply X + II. The number 27 is written as XXVII, which is XX + V + II.\n",
    "Roman numerals are usually written largest to smallest from left to right. However, the numeral for\n",
    "four is not IIII. Instead, the number four is written as IV. Because the one is before the five we\n",
    "subtract it making four. The same principle applies to the number nine, which is written as IX. There\n",
    "are six instances where subtraction is used:\n",
    "● I can be placed before V (5) and X (10) to make 4 and 9.\n",
    "● X can be placed before L (50) and C (100) to make 40 and 90.\n",
    "● C can be placed before D (500) and M (1000) to make 400 and 900.\n",
    "Given a roman numeral, convert it to an integer.\n",
    "\n",
    "Input: s = \"LVIII\"\n",
    "Output: 58\n",
    "Explanation: L = 50, V= 5, III = 3."
   ]
  },
  {
   "cell_type": "code",
   "execution_count": 2,
   "id": "e704d8e7-92de-46fa-a87f-07912758fa51",
   "metadata": {
    "tags": []
   },
   "outputs": [
    {
     "name": "stdout",
     "output_type": "stream",
     "text": [
      "58\n"
     ]
    }
   ],
   "source": [
    "def roman_to_int(s):\n",
    "    roman_values = {\n",
    "        'I': 1,\n",
    "        'V': 5,\n",
    "        'X': 10,\n",
    "        'L': 50,\n",
    "        'C': 100,\n",
    "        'D': 500,\n",
    "        'M': 1000,\n",
    "    }\n",
    "\n",
    "    total = 0\n",
    "    prev_value = 0\n",
    "\n",
    "    for c in s[::-1]:  \n",
    "        value = roman_values[c]\n",
    "        if value >= prev_value:\n",
    "            total += value\n",
    "        else:\n",
    "            total -= value\n",
    "        prev_value = value\n",
    "\n",
    "    return total\n",
    "\n",
    "\n",
    "s = \"LVIII\"\n",
    "result = roman_to_int(s)\n",
    "print(result)\n"
   ]
  },
  {
   "cell_type": "raw",
   "id": "8c40c771-554b-47e6-82dd-b2ff1903cc80",
   "metadata": {},
   "source": [
    "2) Write a function to find the longest common prefix string amongst an array of strings.If there\n",
    "is no common prefix, return an empty string \"\".\n",
    "Example :\n",
    "Input: strs = [\"flower\",\"flow\",\"flight\"]\n",
    "\n",
    "Output: \"fl\""
   ]
  },
  {
   "cell_type": "code",
   "execution_count": 5,
   "id": "bce6e764-32bb-4a77-82f0-f4b41b3f10cd",
   "metadata": {
    "tags": []
   },
   "outputs": [
    {
     "name": "stdout",
     "output_type": "stream",
     "text": [
      "fl\n"
     ]
    }
   ],
   "source": [
    "def longest_common_prefix(strs):\n",
    "    if not strs:\n",
    "        return \"\"\n",
    "\n",
    "    prefix = \"\"\n",
    "    \n",
    "    for chars in zip(*strs):\n",
    "        if len(set(chars)) == 1:\n",
    "            prefix += chars[0]\n",
    "        else:\n",
    "            break\n",
    "\n",
    "    return prefix\n",
    "\n",
    "\n",
    "strs = [\"flower\", \"flow\", \"flight\"]\n",
    "result = longest_common_prefix(strs)\n",
    "print(result)\n"
   ]
  },
  {
   "cell_type": "raw",
   "id": "fc30253f-c1ca-472c-ad93-4058aa970cf7",
   "metadata": {},
   "source": [
    "3) Given an array of integers nums and an integer target, return indices of the two numbers\n",
    "such that they add up to target.\n",
    "You may assume that each input would have exactly one solution, and you may not use\n",
    "the same element twice.\n",
    "Example:\n",
    "Input: nums = [2,7,11,15], target = 9\n",
    "Output: [0,1]"
   ]
  },
  {
   "cell_type": "code",
   "execution_count": 6,
   "id": "eda500b2-5f59-4977-af0f-45234cb514ec",
   "metadata": {
    "tags": []
   },
   "outputs": [
    {
     "name": "stdout",
     "output_type": "stream",
     "text": [
      "[0, 1]\n"
     ]
    }
   ],
   "source": [
    "def two_sum(nums, target):\n",
    "    num_to_index = {}  \n",
    "\n",
    "    for i, num in enumerate(nums):\n",
    "        complement = target - num\n",
    "        if complement in num_to_index:\n",
    "            return [num_to_index[complement], i]\n",
    "        else:\n",
    "            num_to_index[num] = i\n",
    "\n",
    "    return []\n",
    "\n",
    "\n",
    "nums = [2, 7, 11, 15]\n",
    "target = 9\n",
    "result = two_sum(nums, target)\n",
    "print(result)  \n"
   ]
  },
  {
   "cell_type": "raw",
   "id": "0c6baf96-270b-4776-8d06-61a7c8e7735e",
   "metadata": {},
   "source": [
    "4) Given a string s, find the length of the longest substring\n",
    "without repeating characters.\n",
    "\n",
    "Example:\n",
    "Input: s = \"abcabcbb\"\n",
    "Output: 3\n",
    "Explanation: The answer is \"abc\", with the length of 3."
   ]
  },
  {
   "cell_type": "code",
   "execution_count": 7,
   "id": "2e056059-a3f3-4b80-a576-e500d572b868",
   "metadata": {
    "tags": []
   },
   "outputs": [
    {
     "name": "stdout",
     "output_type": "stream",
     "text": [
      "3\n"
     ]
    }
   ],
   "source": [
    "def length_of_longest_substring(s):\n",
    "    char_to_index = {}  \n",
    "    max_length = 0\n",
    "    start = 0\n",
    "\n",
    "    for i, char in enumerate(s):\n",
    "        if char in char_to_index and char_to_index[char] >= start:\n",
    "            start = char_to_index[char] + 1\n",
    "        current_length = i - start + 1\n",
    "        max_length = max(max_length, current_length)\n",
    "        char_to_index[char] = i\n",
    "\n",
    "    return max_length\n",
    "\n",
    "\n",
    "s = \"abcabcbb\"\n",
    "result = length_of_longest_substring(s)\n",
    "print(result) \n"
   ]
  },
  {
   "cell_type": "code",
   "execution_count": null,
   "id": "08699b23-f52c-449e-b003-e289244eb3e5",
   "metadata": {},
   "outputs": [],
   "source": []
  }
 ],
 "metadata": {
  "kernelspec": {
   "display_name": "Python 3 (ipykernel)",
   "language": "python",
   "name": "python3"
  },
  "language_info": {
   "codemirror_mode": {
    "name": "ipython",
    "version": 3
   },
   "file_extension": ".py",
   "mimetype": "text/x-python",
   "name": "python",
   "nbconvert_exporter": "python",
   "pygments_lexer": "ipython3",
   "version": "3.10.5"
  }
 },
 "nbformat": 4,
 "nbformat_minor": 5
}
